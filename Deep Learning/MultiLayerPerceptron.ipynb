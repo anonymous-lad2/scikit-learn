{
 "cells": [
  {
   "cell_type": "code",
   "execution_count": 25,
   "id": "32ef28f4-830a-4bca-9ca7-362deddf8009",
   "metadata": {},
   "outputs": [],
   "source": [
    "import numpy as np\n",
    "import matplotlib.pyplot as plt\n",
    "from sklearn.datasets import make_circles\n",
    "from sklearn.neural_network import MLPClassifier\n",
    "import ipywidgets as widgets\n",
    "from IPython.display import display\n",
    "from ipywidgets import interactive"
   ]
  },
  {
   "cell_type": "code",
   "execution_count": 26,
   "id": "dc241038-f91a-4843-8c79-309f53856924",
   "metadata": {},
   "outputs": [],
   "source": [
    "# Create a function to update and display the plot\n",
    "def update_plot(hidden_layer_size):\n",
    "    # Generate synthetic data (circle)\n",
    "    X, y = make_circles(n_samples=300, noise=0.1, factor=0.5, random_state=0)\n",
    "\n",
    "    # Create a multilayer perceptron classifier\n",
    "    clf = MLPClassifier(hidden_layer_sizes=(hidden_layer_size,), activation='relu', max_iter=3000, random_state=1)\n",
    "\n",
    "    # Fit the classifier to the data\n",
    "    clf.fit(X, y)\n",
    "\n",
    "    # Create a grid of points for visualization\n",
    "    x_vals = np.linspace(X[:, 0].min() - 0.1, X[:, 0].max() + 0.1, 100)\n",
    "    y_vals = np.linspace(X[:, 1].min() - 0.1, X[:, 1].max() + 0.1, 100)\n",
    "    X_plane, Y_plane = np.meshgrid(x_vals, y_vals)\n",
    "    grid_points = np.column_stack((X_plane.ravel(), Y_plane.ravel()))\n",
    "\n",
    "    # Predict class labels for the grid points\n",
    "    z = clf.predict(grid_points)\n",
    "    z = z.reshape(X_plane.shape)\n",
    "\n",
    "    # Create a figure and axes\n",
    "    fig, ax = plt.subplots(figsize=(8, 6))\n",
    "\n",
    "    # Plot the decision boundary\n",
    "    ax.contourf(X_plane, Y_plane, z, levels=[-0.5, 0.5, 1.5], cmap=plt.cm.RdYlGn, alpha=0.6)\n",
    "    \n",
    "    # Plot the data points\n",
    "    ax.scatter(X[:, 0], X[:, 1], c=y, cmap=plt.cm.RdYlGn, edgecolor='k')\n",
    "\n",
    "    ax.set_xlabel('Feature 1')\n",
    "    ax.set_ylabel('Feature 2')\n",
    "    ax.set_title(f'Decision Boundary for MLP (Hidden Layer Size = {hidden_layer_size})')\n",
    "    plt.show()"
   ]
  },
  {
   "cell_type": "code",
   "execution_count": 27,
   "id": "91aab272-8232-41d6-ba2c-51e8513c4024",
   "metadata": {},
   "outputs": [
    {
     "data": {
      "application/vnd.jupyter.widget-view+json": {
       "model_id": "78011cbc973c4ed69d084b6cb6aa5f91",
       "version_major": 2,
       "version_minor": 0
      },
      "text/plain": [
       "interactive(children=(IntSlider(value=2, description='Hidden Layer Size', max=10, min=1), Output()), _dom_clas…"
      ]
     },
     "metadata": {},
     "output_type": "display_data"
    }
   ],
   "source": [
    "# Create a slider for hidden layer size\n",
    "hidden_layer_size_slider = widgets.IntSlider(value=2, min=1, max=10, step=1, description='Hidden Layer Size')\n",
    "\n",
    "# Create an interactive widget and display it\n",
    "interactive_plot = interactive(update_plot, hidden_layer_size=hidden_layer_size_slider)\n",
    "display(interactive_plot)"
   ]
  }
 ],
 "metadata": {
  "kernelspec": {
   "display_name": "Python 3 (ipykernel)",
   "language": "python",
   "name": "python3"
  },
  "language_info": {
   "codemirror_mode": {
    "name": "ipython",
    "version": 3
   },
   "file_extension": ".py",
   "mimetype": "text/x-python",
   "name": "python",
   "nbconvert_exporter": "python",
   "pygments_lexer": "ipython3",
   "version": "3.13.1"
  }
 },
 "nbformat": 4,
 "nbformat_minor": 5
}
