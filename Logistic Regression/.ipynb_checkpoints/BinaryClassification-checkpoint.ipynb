{
 "cells": [
  {
   "cell_type": "code",
   "execution_count": 26,
   "id": "ab3cd004-7906-4d06-a1fb-620485d3d4dd",
   "metadata": {},
   "outputs": [],
   "source": [
    "#  import libraries \n",
    "import numpy as np\n",
    "import matplotlib.pyplot as plt\n",
    "from ipywidgets import interact, FloatSlider\n",
    "from IPython.display import display, clear_output"
   ]
  },
  {
   "cell_type": "code",
   "execution_count": 27,
   "id": "ac9b7258-9307-459a-bde6-f63ca9264990",
   "metadata": {},
   "outputs": [],
   "source": [
    "# Generate synthetic data\n",
    "np.random.seed(0)\n",
    "X = np.linspace(-5, 5, 100)"
   ]
  },
  {
   "cell_type": "code",
   "execution_count": 28,
   "id": "a6f52f3c-9754-4faf-a18b-a19d078fe4e1",
   "metadata": {},
   "outputs": [],
   "source": [
    "#  create a function for interactive visualization\n",
    "def plot_logistic_regression(slope=0.2, intercept=-1.0, threshold=0.5):\n",
    "    new_linear_combination = slope * X + intercept\n",
    "    new_probability = 1 / (1 + np.exp(-new_linear_combination))\n",
    "    predicted_labels = (new_probability > threshold).astype(int)\n",
    "\n",
    "    # create subplots\n",
    "    fig, (ax1, ax2, ax3) = plt.subplots(1, 3, figsize=(18, 5))\n",
    "\n",
    "    # Plot the linear combination\n",
    "    ax1.plot(X, new_linear_combination, label='Linear Combination')\n",
    "    ax1.set_xlabel('Feature Value (X)')\n",
    "    ax1.set_ylabel('Linear Combination (y)')\n",
    "    ax1.legend()\n",
    "\n",
    "    # Plot the logistic function output as a subplot\n",
    "    ax2.plot(X, new_probability, label='Logistic Function')\n",
    "    ax2.set_xlabel('Feature Value(X)')\n",
    "    ax2.set_ylabel('Probability')\n",
    "    ax2.legend()\n",
    "\n",
    "    # Plot the predicted labels\n",
    "    ax3.scatter(X, predicted_labels, label='Predicted labels')\n",
    "    ax3.set_xlabel('Feature Value (X)')\n",
    "    ax3.set_ylabel('Predicted Label')\n",
    "    ax3.legend()\n",
    "\n",
    "    plt.show()"
   ]
  },
  {
   "cell_type": "code",
   "execution_count": 34,
   "id": "7a50a348-d3ac-47a3-9d97-4f71c01dd396",
   "metadata": {},
   "outputs": [
    {
     "data": {
      "application/vnd.jupyter.widget-view+json": {
       "model_id": "99f6a762a6b84f6ba236170bcb063e66",
       "version_major": 2,
       "version_minor": 0
      },
      "text/plain": [
       "interactive(children=(FloatSlider(value=2.0, description='Slope', max=5.0, min=-5.0), FloatSlider(value=-1.0, …"
      ]
     },
     "metadata": {},
     "output_type": "display_data"
    },
    {
     "data": {
      "text/plain": [
       "<function __main__.plot_logistic_regression(slope=0.2, intercept=-1.0, threshold=0.5)>"
      ]
     },
     "execution_count": 34,
     "metadata": {},
     "output_type": "execute_result"
    }
   ],
   "source": [
    "# create sliders \n",
    "slope_slider = FloatSlider(value=2.0, min=-5.0, max=5.0, step=0.1, description='Slope')\n",
    "intercept_slider = FloatSlider(value=-1.0, min=-5.0, max=5.0, step=0.1, description='Intercept')\n",
    "threshold_slider = FloatSlider(value=0.5, min=0.0, max=1.0, step=0.01, description='Threshold')\n",
    "\n",
    "# create an interactive widget\n",
    "interact(plot_logistic_regression, slope=slope_slider, intercept=intercept_slider, threshold=threshold_slider)"
   ]
  },
  {
   "cell_type": "code",
   "execution_count": null,
   "id": "8078e3f6-684e-452a-aac9-d3eed86b6f95",
   "metadata": {},
   "outputs": [],
   "source": []
  }
 ],
 "metadata": {
  "kernelspec": {
   "display_name": "Python 3 (ipykernel)",
   "language": "python",
   "name": "python3"
  },
  "language_info": {
   "codemirror_mode": {
    "name": "ipython",
    "version": 3
   },
   "file_extension": ".py",
   "mimetype": "text/x-python",
   "name": "python",
   "nbconvert_exporter": "python",
   "pygments_lexer": "ipython3",
   "version": "3.13.1"
  }
 },
 "nbformat": 4,
 "nbformat_minor": 5
}
